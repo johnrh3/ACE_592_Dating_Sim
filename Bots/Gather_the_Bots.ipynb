{
 "cells": [
  {
   "cell_type": "code",
   "execution_count": 2,
   "id": "bbca82ce",
   "metadata": {},
   "outputs": [],
   "source": [
    "import pandas as pd\n",
    "import json\n",
    "import csv\n",
    "import sys\n",
    "import matplotlib.pyplot as plt\n",
    "from sklearn.feature_extraction.text import CountVectorizer\n",
    "from nltk.sentiment.vader import SentimentIntensityAnalyzer\n",
    "import re\n",
    "import string\n",
    "import numpy as np\n",
    "from nltk.corpus import stopwords\n",
    "import string\n",
    "import emoji\n",
    "import regex\n",
    "import string\n",
    "from datetime import timedelta\n",
    "import matplotlib.dates as mdates\n",
    "import seaborn as sn\n",
    "from sklearn.model_selection import cross_val_predict\n",
    "from sklearn.model_selection import GridSearchCV\n",
    "from sklearn.model_selection import RandomizedSearchCV\n",
    "from sklearn.preprocessing import StandardScaler\n",
    "from sklearn.cluster import KMeans\n",
    "from sklearn.metrics import silhouette_samples, silhouette_score\n",
    "from sklearn.metrics import confusion_matrix\n",
    "from sklearn.linear_model import Lasso\n",
    "from sklearn.model_selection import train_test_split\n",
    "from sklearn.ensemble import RandomForestClassifier\n",
    "from sklearn.metrics import classification_report\n",
    "from numpy import mean\n",
    "from numpy import std\n",
    "from sklearn.model_selection import cross_val_score\n",
    "from sklearn.model_selection import RepeatedStratifiedKFold\n",
    "from sklearn.model_selection import StratifiedKFold\n",
    "from sklearn.decomposition import PCA\n",
    "from unidecode import unidecode as unidec"
   ]
  },
  {
   "cell_type": "code",
   "execution_count": 3,
   "id": "151a3749",
   "metadata": {},
   "outputs": [],
   "source": [
    "dir_=\"C:\\\\Users\\\\Alex\\\\Personal-Code\\\\ACE_592_Dating_Sim\\\\Wrangled_Data\\\\\""
   ]
  },
  {
   "cell_type": "code",
   "execution_count": 4,
   "id": "a3f47a59",
   "metadata": {},
   "outputs": [],
   "source": [
    "#reads the csv files into memory for each dating app.\n",
    "#Data has already been cleaed and all three files share the same columns\n",
    "df_T = pd.read_csv(dir_ + \"sent_time_Tinder.csv\")\n",
    "df_T = df_T[['full_text', 'clean_text', 'score', 'date', 'time_stamp', 'comp_sent', 'neg_sent', 'pos_sent', 'neu_sent']]\n",
    "\n",
    "df_B = pd.read_csv(dir_ + \"sent_time_Bumble.csv\")\n",
    "df_B = df_B[['full_text', 'clean_text', 'score', 'date', 'time_stamp', 'comp_sent', 'neg_sent', 'pos_sent', 'neu_sent']]\n",
    "\n",
    "df_H = pd.read_csv(dir_ + \"sent_time_Hinge.csv\")\n",
    "df_H = df_H[['full_text', 'clean_text', 'score', 'date', 'time_stamp', 'comp_sent', 'neg_sent', 'pos_sent', 'neu_sent']]\n",
    "\n",
    "#converts the time_stamp and date columns to datetime64 types\n",
    "def to_datetime(df):\n",
    "    df['date'] = pd.to_datetime(df.date)\n",
    "    df['time_stamp'] = pd.to_datetime(df['time_stamp'])\n",
    "    df_data = df.loc[df['score'] != 0]\n",
    "    return df_data\n",
    "\n",
    "df_T = to_datetime(df_T)\n",
    "df_B = to_datetime(df_B)\n",
    "df_H = to_datetime(df_H)"
   ]
  },
  {
   "cell_type": "code",
   "execution_count": null,
   "id": "5f0e51e5",
   "metadata": {},
   "outputs": [],
   "source": []
  }
 ],
 "metadata": {
  "kernelspec": {
   "display_name": "Python 3 (ipykernel)",
   "language": "python",
   "name": "python3"
  },
  "language_info": {
   "codemirror_mode": {
    "name": "ipython",
    "version": 3
   },
   "file_extension": ".py",
   "mimetype": "text/x-python",
   "name": "python",
   "nbconvert_exporter": "python",
   "pygments_lexer": "ipython3",
   "version": "3.9.11"
  }
 },
 "nbformat": 4,
 "nbformat_minor": 5
}
