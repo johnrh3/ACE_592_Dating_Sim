{
 "cells": [
  {
   "cell_type": "code",
   "execution_count": 1,
   "id": "eea011ff",
   "metadata": {},
   "outputs": [],
   "source": [
    "import pandas as pd\n",
    "import json\n",
    "import csv\n",
    "import sys\n",
    "import matplotlib.pyplot as plt\n",
    "from sklearn.feature_extraction.text import CountVectorizer\n",
    "from nltk.sentiment.vader import SentimentIntensityAnalyzer\n",
    "import re\n",
    "import string\n",
    "import numpy as np\n",
    "from nltk.corpus import stopwords\n",
    "import string\n",
    "import emoji\n",
    "import regex\n",
    "import string\n",
    "from datetime import timedelta\n",
    "import matplotlib.dates as mdates\n",
    "import seaborn as sn\n",
    "from sklearn.model_selection import cross_val_predict\n",
    "from sklearn.model_selection import GridSearchCV\n",
    "from sklearn.model_selection import RandomizedSearchCV\n",
    "from sklearn.preprocessing import StandardScaler\n",
    "from sklearn.cluster import KMeans\n",
    "from sklearn.metrics import silhouette_samples, silhouette_score\n",
    "from sklearn.metrics import confusion_matrix\n",
    "from sklearn.linear_model import Lasso\n",
    "from sklearn.model_selection import train_test_split\n",
    "from sklearn.ensemble import RandomForestClassifier\n",
    "from sklearn.metrics import classification_report\n",
    "from numpy import mean\n",
    "from numpy import std\n",
    "from sklearn.model_selection import cross_val_score\n",
    "from sklearn.model_selection import RepeatedStratifiedKFold\n",
    "from sklearn.model_selection import StratifiedKFold\n",
    "from sklearn.decomposition import PCA\n",
    "from unidecode import unidecode as unidec"
   ]
  },
  {
   "cell_type": "code",
   "execution_count": 2,
   "id": "a73e8cc6",
   "metadata": {},
   "outputs": [],
   "source": [
    "dir_=\"C:\\\\Users\\\\Alex\\\\Personal-Code\\\\ACE_592_Dating_Sim\\\\Wrangled_Data\\\\\""
   ]
  },
  {
   "cell_type": "code",
   "execution_count": 3,
   "id": "ef16d509",
   "metadata": {},
   "outputs": [],
   "source": [
    "#reads the csv files into memory for each dating app.\n",
    "#Data has already been cleaed and all three files share the same columns\n",
    "df_T = pd.read_csv(dir_ + \"sent_Tinder.csv\")\n",
    "df_B = pd.read_csv(dir_ + \"sent_Bumble.csv\")\n",
    "df_H = pd.read_csv(dir_ + \"sent_Hinge.csv\")"
   ]
  },
  {
   "cell_type": "markdown",
   "id": "d7bf22cc",
   "metadata": {},
   "source": [
    "### Lasso Regression for Feature Analysis. Yeehaw."
   ]
  },
  {
   "cell_type": "code",
   "execution_count": 6,
   "id": "c8e22b51",
   "metadata": {},
   "outputs": [],
   "source": [
    "# def get_data(df):\n",
    "#     df_traits = df[['pta_milk', 'pta_fat_lb', 'pta_scs', 'pta_protein_lb', 'pta_dpr']]\n",
    "#     #standardizing the data before using PCA like a good bean\n",
    "#     traits = (df_traits - df_traits.mean())/df_traits.std()\n",
    "#     #changes the NaN traits of bulls with NaN to zero\n",
    "#     x = traits.fillna(0)\n",
    "#     y = df['price']\n",
    "#     return x,y"
   ]
  },
  {
   "cell_type": "code",
   "execution_count": 7,
   "id": "b4f02713",
   "metadata": {},
   "outputs": [],
   "source": [
    "# #Gathers all data with existing price data and splits it into the input data (x) and the actual labels (y)\n",
    "# Train = df[df['price'].notna()]\n",
    "# x, y = get_data(Train)"
   ]
  },
  {
   "cell_type": "code",
   "execution_count": 8,
   "id": "0c514593",
   "metadata": {},
   "outputs": [],
   "source": [
    "# model_lasso = Lasso(max_iter= -1)\n",
    "# model_lasso.fit(x,y)\n",
    "# model_lasso.n_features_in_\n",
    "# print(model_lasso.feature_names_in_)\n",
    "# print(model_lasso.coef_)"
   ]
  },
  {
   "cell_type": "code",
   "execution_count": null,
   "id": "ee5a65fe",
   "metadata": {},
   "outputs": [],
   "source": []
  }
 ],
 "metadata": {
  "kernelspec": {
   "display_name": "Python 3 (ipykernel)",
   "language": "python",
   "name": "python3"
  },
  "language_info": {
   "codemirror_mode": {
    "name": "ipython",
    "version": 3
   },
   "file_extension": ".py",
   "mimetype": "text/x-python",
   "name": "python",
   "nbconvert_exporter": "python",
   "pygments_lexer": "ipython3",
   "version": "3.9.11"
  }
 },
 "nbformat": 4,
 "nbformat_minor": 5
}
