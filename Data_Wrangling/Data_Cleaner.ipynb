{
 "cells": [
  {
   "cell_type": "code",
   "execution_count": 33,
   "id": "232f0372",
   "metadata": {},
   "outputs": [],
   "source": [
    "import pandas as pd\n",
    "import json\n",
    "import csv\n",
    "import matplotlib.pyplot as plt\n",
    "from sklearn.feature_extraction.text import CountVectorizer\n",
    "from nltk.sentiment.vader import SentimentIntensityAnalyzer\n",
    "import re\n",
    "import string\n",
    "import numpy as np\n",
    "from nltk.corpus import stopwords\n",
    "import string\n",
    "import emoji\n",
    "import string\n",
    "from datetime import timedelta"
   ]
  },
  {
   "cell_type": "code",
   "execution_count": 7,
   "id": "567f05e8",
   "metadata": {},
   "outputs": [],
   "source": [
    "dir_=\"C:\\\\Users\\\\Alex\\\\Personal-Code\\\\ACE_592_Dating_Sim\\\\Wrangled_Data\\\\\""
   ]
  },
  {
   "cell_type": "code",
   "execution_count": 9,
   "id": "e668269d",
   "metadata": {
    "scrolled": false
   },
   "outputs": [],
   "source": [
    "#reads the csv files into memory for each dating app.\n",
    "#Data has already been cleaed and all three files share the same columns\n",
    "dfT = pd.read_csv(dir_ + \"clean_Tinder.csv\")\n",
    "dfB = pd.read_csv(dir_ + \"clean_Bumble.csv\")\n",
    "dfH = pd.read_csv(dir_ + \"clean_Hinge.csv\")"
   ]
  },
  {
   "cell_type": "code",
   "execution_count": 13,
   "id": "9c80353a",
   "metadata": {},
   "outputs": [],
   "source": [
    "dfH.head(5);"
   ]
  },
  {
   "cell_type": "code",
   "execution_count": 14,
   "id": "86f3728d",
   "metadata": {},
   "outputs": [],
   "source": [
    "dfB.head(5);"
   ]
  },
  {
   "cell_type": "code",
   "execution_count": 10,
   "id": "4b12f0d6",
   "metadata": {},
   "outputs": [
    {
     "data": {
      "text/html": [
       "<div>\n",
       "<style scoped>\n",
       "    .dataframe tbody tr th:only-of-type {\n",
       "        vertical-align: middle;\n",
       "    }\n",
       "\n",
       "    .dataframe tbody tr th {\n",
       "        vertical-align: top;\n",
       "    }\n",
       "\n",
       "    .dataframe thead th {\n",
       "        text-align: right;\n",
       "    }\n",
       "</style>\n",
       "<table border=\"1\" class=\"dataframe\">\n",
       "  <thead>\n",
       "    <tr style=\"text-align: right;\">\n",
       "      <th></th>\n",
       "      <th>userName</th>\n",
       "      <th>content</th>\n",
       "      <th>score</th>\n",
       "      <th>thumbsUpCount</th>\n",
       "      <th>at</th>\n",
       "      <th>replyContent</th>\n",
       "      <th>repliedAt</th>\n",
       "    </tr>\n",
       "  </thead>\n",
       "  <tbody>\n",
       "    <tr>\n",
       "      <th>0</th>\n",
       "      <td>Nikhilesh Verma</td>\n",
       "      <td>Fake app</td>\n",
       "      <td>1</td>\n",
       "      <td>0</td>\n",
       "      <td>2022-04-09 11:15:07</td>\n",
       "      <td>NaN</td>\n",
       "      <td>NaN</td>\n",
       "    </tr>\n",
       "    <tr>\n",
       "      <th>1</th>\n",
       "      <td>Tristan Jones</td>\n",
       "      <td>I'm not a racist person, l respect all races b...</td>\n",
       "      <td>2</td>\n",
       "      <td>0</td>\n",
       "      <td>2022-04-09 11:03:58</td>\n",
       "      <td>NaN</td>\n",
       "      <td>NaN</td>\n",
       "    </tr>\n",
       "    <tr>\n",
       "      <th>2</th>\n",
       "      <td>Lola Racheal</td>\n",
       "      <td>I was banned from using the app i don't know w...</td>\n",
       "      <td>1</td>\n",
       "      <td>0</td>\n",
       "      <td>2022-04-09 11:00:09</td>\n",
       "      <td>NaN</td>\n",
       "      <td>NaN</td>\n",
       "    </tr>\n",
       "    <tr>\n",
       "      <th>3</th>\n",
       "      <td>Boakiller</td>\n",
       "      <td>Ive been matching with people but they never s...</td>\n",
       "      <td>1</td>\n",
       "      <td>0</td>\n",
       "      <td>2022-04-09 10:54:40</td>\n",
       "      <td>NaN</td>\n",
       "      <td>NaN</td>\n",
       "    </tr>\n",
       "    <tr>\n",
       "      <th>4</th>\n",
       "      <td>Maddison Macfarlane</td>\n",
       "      <td>Got banned, don't know why or how? There isn't...</td>\n",
       "      <td>1</td>\n",
       "      <td>0</td>\n",
       "      <td>2022-04-09 10:46:22</td>\n",
       "      <td>NaN</td>\n",
       "      <td>NaN</td>\n",
       "    </tr>\n",
       "  </tbody>\n",
       "</table>\n",
       "</div>"
      ],
      "text/plain": [
       "              userName                                            content  \\\n",
       "0      Nikhilesh Verma                                           Fake app   \n",
       "1        Tristan Jones  I'm not a racist person, l respect all races b...   \n",
       "2         Lola Racheal  I was banned from using the app i don't know w...   \n",
       "3            Boakiller  Ive been matching with people but they never s...   \n",
       "4  Maddison Macfarlane  Got banned, don't know why or how? There isn't...   \n",
       "\n",
       "   score  thumbsUpCount                   at replyContent repliedAt  \n",
       "0      1              0  2022-04-09 11:15:07          NaN       NaN  \n",
       "1      2              0  2022-04-09 11:03:58          NaN       NaN  \n",
       "2      1              0  2022-04-09 11:00:09          NaN       NaN  \n",
       "3      1              0  2022-04-09 10:54:40          NaN       NaN  \n",
       "4      1              0  2022-04-09 10:46:22          NaN       NaN  "
      ]
     },
     "execution_count": 10,
     "metadata": {},
     "output_type": "execute_result"
    }
   ],
   "source": [
    "dfT.head(5)"
   ]
  },
  {
   "cell_type": "code",
   "execution_count": 16,
   "id": "f4874f8a",
   "metadata": {},
   "outputs": [
    {
     "data": {
      "text/plain": [
       "userName         object\n",
       "content          object\n",
       "score             int64\n",
       "thumbsUpCount     int64\n",
       "at               object\n",
       "replyContent     object\n",
       "repliedAt        object\n",
       "dtype: object"
      ]
     },
     "execution_count": 16,
     "metadata": {},
     "output_type": "execute_result"
    }
   ],
   "source": [
    "dfT.dtypes"
   ]
  },
  {
   "cell_type": "code",
   "execution_count": 36,
   "id": "503040eb",
   "metadata": {},
   "outputs": [],
   "source": [
    "#cleans and crops the data. Converts the timestamp to a datetime format, and clips the data to only include 2018-2022\n",
    "def clean(df):\n",
    "    #throws the copy error warning because it annoys me\n",
    "    pd.options.mode.chained_assignment = None  # default='warn'\n",
    "    \n",
    "    #TIME STUFF\n",
    "    # Convert to datetime\n",
    "    df['time_stamp'] = pd.to_datetime(df['at'])\n",
    "    # Adds Date column, which is just chopping off the time part. Will hopefully be usefull later\n",
    "    df['date'] = df.time_stamp.apply(lambda x:  str(x)[:10])\n",
    "    df['date'] = pd.to_datetime(df.date)\n",
    "    \n",
    "    #checks on whether or not a review was replied to and stores that bool in a new column \"reply_status\"\n",
    "    df['reply_status'] = 0\n",
    "    for i in range(len(df)):\n",
    "        if pd.isnull(df.replyContent[i]):\n",
    "            #print(\"false\")\n",
    "            df.reply_status[i] = False\n",
    "        else:\n",
    "            #print(\"true\")\n",
    "            df.reply_status[i] = True\n",
    "    \n",
    "    #CLEANING THE TEXT (scrub scrub)\n",
    "    #converts text to string for all review comments \n",
    "    df['full_text'] = df['content'].astype(str)\n",
    "    \n",
    "    #converts all text to lowercase: \n",
    "    df['clean_text'] =  df['full_text'].str.lower().str.replace(\"\\n\",\"\")\n",
    "    \n",
    "    #removes punctuation\n",
    "    string.punctuation\n",
    "    # This maketrans function can be used to remove a list of characters from a string.\n",
    "    remv_punc = str.maketrans('','',string.punctuation + '“' +\"‘\"+'”')\n",
    "    df['clean_text'] = df['clean_text'].str.translate(remv_punc)\n",
    "    \n",
    "    #on the off chance that any of these come up in the reviews\n",
    "    #starts by removing the https, #, and @ AND THEIR FOLLOWING TEXT from our full text tweets \n",
    "    #Regex functions to find each one\n",
    "    find_links = re.compile(r'http\\S+')\n",
    "    find_users = re.compile(r'@\\w+')\n",
    "    find_hashtags = re.compile(r'#\\w+')\n",
    "\n",
    "    #\"sub\" them for an empty string\n",
    "    df['clean_text'] = [find_links.sub(\"\",x) for x in df['clean_text']]\n",
    "    df['clean_text']=  [find_users.sub(\"\",x) for x in df['clean_text']]\n",
    "    df['clean_text']= [find_hashtags.sub(\"\",x) for x in df['clean_text']]\n",
    "    \n",
    "    #renames thumbs and reply_content\n",
    "    df = df.rename(columns = {'thumbsUpCount' : 'thumbs', 'replyContent' : 'reply_content'})\n",
    "    \n",
    "    df1 = df[['userName', 'clean_text', 'score', 'thumbs', 'date', 'time_stamp', 'reply_status', 'reply_content']]\n",
    "    \n",
    "    return df1"
   ]
  },
  {
   "cell_type": "code",
   "execution_count": 41,
   "id": "0b094443",
   "metadata": {},
   "outputs": [
    {
     "name": "stdout",
     "output_type": "stream",
     "text": [
      "userName                 object\n",
      "clean_text               object\n",
      "score                     int64\n",
      "thumbs                    int64\n",
      "date             datetime64[ns]\n",
      "time_stamp       datetime64[ns]\n",
      "reply_status             object\n",
      "reply_content            object\n",
      "dtype: object\n"
     ]
    }
   ],
   "source": [
    "#dfT = clean(dfT)\n",
    "dfB = clean(dfB)\n",
    "dfH = clean(dfH)\n",
    "print(dfT.dtypes);\n",
    "dfT.head(5);"
   ]
  },
  {
   "cell_type": "code",
   "execution_count": 43,
   "id": "24618e15",
   "metadata": {},
   "outputs": [],
   "source": [
    "#saves the new CSV files as clean data\n",
    "dfT.to_csv(dir_ + \"clean_Tinder.csv\")\n",
    "dfB.to_csv(dir_ + \"clean_Bumble.csv\")\n",
    "dfH.to_csv(dir_ + \"clean_Hinge.csv\")"
   ]
  }
 ],
 "metadata": {
  "kernelspec": {
   "display_name": "Python 3 (ipykernel)",
   "language": "python",
   "name": "python3"
  },
  "language_info": {
   "codemirror_mode": {
    "name": "ipython",
    "version": 3
   },
   "file_extension": ".py",
   "mimetype": "text/x-python",
   "name": "python",
   "nbconvert_exporter": "python",
   "pygments_lexer": "ipython3",
   "version": "3.9.11"
  }
 },
 "nbformat": 4,
 "nbformat_minor": 5
}
